{
 "cells": [
  {
   "cell_type": "code",
   "execution_count": 21,
   "outputs": [],
   "source": [
    "from sklearn.feature_extraction.text import TfidfVectorizer\n",
    "import pandas as pd"
   ],
   "metadata": {
    "collapsed": false,
    "ExecuteTime": {
     "end_time": "2023-08-05T11:03:09.722490Z",
     "start_time": "2023-08-05T11:03:09.713725Z"
    }
   }
  },
  {
   "cell_type": "code",
   "execution_count": 60,
   "outputs": [
    {
     "data": {
      "text/plain": "                                Document       and  document     first  \\\n0            This is the first document.  0.000000  0.469791  0.580286   \n1  This document is the second document.  0.000000  0.687624  0.000000   \n2             And this is the third one.  0.511849  0.000000  0.000000   \n3            Is this the first document?  0.000000  0.469791  0.580286   \n\n         is       one    second       the     third      this  \n0  0.384085  0.000000  0.000000  0.384085  0.000000  0.384085  \n1  0.281089  0.000000  0.538648  0.281089  0.000000  0.281089  \n2  0.267104  0.511849  0.000000  0.267104  0.511849  0.267104  \n3  0.384085  0.000000  0.000000  0.384085  0.000000  0.384085  ",
      "text/html": "<div>\n<style scoped>\n    .dataframe tbody tr th:only-of-type {\n        vertical-align: middle;\n    }\n\n    .dataframe tbody tr th {\n        vertical-align: top;\n    }\n\n    .dataframe thead th {\n        text-align: right;\n    }\n</style>\n<table border=\"1\" class=\"dataframe\">\n  <thead>\n    <tr style=\"text-align: right;\">\n      <th></th>\n      <th>Document</th>\n      <th>and</th>\n      <th>document</th>\n      <th>first</th>\n      <th>is</th>\n      <th>one</th>\n      <th>second</th>\n      <th>the</th>\n      <th>third</th>\n      <th>this</th>\n    </tr>\n  </thead>\n  <tbody>\n    <tr>\n      <th>0</th>\n      <td>This is the first document.</td>\n      <td>0.000000</td>\n      <td>0.469791</td>\n      <td>0.580286</td>\n      <td>0.384085</td>\n      <td>0.000000</td>\n      <td>0.000000</td>\n      <td>0.384085</td>\n      <td>0.000000</td>\n      <td>0.384085</td>\n    </tr>\n    <tr>\n      <th>1</th>\n      <td>This document is the second document.</td>\n      <td>0.000000</td>\n      <td>0.687624</td>\n      <td>0.000000</td>\n      <td>0.281089</td>\n      <td>0.000000</td>\n      <td>0.538648</td>\n      <td>0.281089</td>\n      <td>0.000000</td>\n      <td>0.281089</td>\n    </tr>\n    <tr>\n      <th>2</th>\n      <td>And this is the third one.</td>\n      <td>0.511849</td>\n      <td>0.000000</td>\n      <td>0.000000</td>\n      <td>0.267104</td>\n      <td>0.511849</td>\n      <td>0.000000</td>\n      <td>0.267104</td>\n      <td>0.511849</td>\n      <td>0.267104</td>\n    </tr>\n    <tr>\n      <th>3</th>\n      <td>Is this the first document?</td>\n      <td>0.000000</td>\n      <td>0.469791</td>\n      <td>0.580286</td>\n      <td>0.384085</td>\n      <td>0.000000</td>\n      <td>0.000000</td>\n      <td>0.384085</td>\n      <td>0.000000</td>\n      <td>0.384085</td>\n    </tr>\n  </tbody>\n</table>\n</div>"
     },
     "execution_count": 60,
     "metadata": {},
     "output_type": "execute_result"
    }
   ],
   "source": [
    "corpus = [\n",
    "    'This is the first document.',\n",
    "    'This document is the second document.',\n",
    "    'And this is the third one.',\n",
    "    'Is this the first document?',\n",
    "]\n",
    "vectorizer = TfidfVectorizer()\n",
    "X = vectorizer.fit_transform(corpus)\n",
    "df = pd.DataFrame.from_records(X.toarray(), columns=vectorizer.get_feature_names_out())\n",
    "df.insert(0, \"Document\", corpus)\n",
    "df"
   ],
   "metadata": {
    "collapsed": false,
    "ExecuteTime": {
     "end_time": "2023-08-05T11:41:29.085302Z",
     "start_time": "2023-08-05T11:41:29.082150Z"
    }
   }
  },
  {
   "cell_type": "code",
   "execution_count": 40,
   "outputs": [],
   "source": [],
   "metadata": {
    "collapsed": false,
    "ExecuteTime": {
     "end_time": "2023-08-05T11:27:32.880448Z",
     "start_time": "2023-08-05T11:27:32.874124Z"
    }
   }
  },
  {
   "cell_type": "code",
   "execution_count": null,
   "outputs": [],
   "source": [],
   "metadata": {
    "collapsed": false
   }
  }
 ],
 "metadata": {
  "kernelspec": {
   "name": "python3",
   "language": "python",
   "display_name": "Python 3 (ipykernel)"
  }
 },
 "nbformat": 4,
 "nbformat_minor": 5
}
