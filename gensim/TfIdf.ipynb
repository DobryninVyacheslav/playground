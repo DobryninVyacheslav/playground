{
 "cells": [
  {
   "cell_type": "code",
   "execution_count": 15,
   "metadata": {
    "collapsed": true,
    "ExecuteTime": {
     "end_time": "2023-08-05T14:58:10.991553Z",
     "start_time": "2023-08-05T14:58:10.981095Z"
    }
   },
   "outputs": [],
   "source": [
    "from gensim.models import TfidfModel\n",
    "import gensim.corpora as corpora\n",
    "import re"
   ]
  },
  {
   "cell_type": "code",
   "execution_count": 93,
   "outputs": [
    {
     "name": "stdout",
     "output_type": "stream",
     "text": [
      "Texts: [['this', 'is', 'the', 'first', 'document'], ['this', 'document', 'is', 'the', 'second', 'document'], ['and', 'this', 'is', 'the', 'third', 'one'], ['is', 'this', 'the', 'first', 'document']]\n",
      "Dictionary: Dictionary<9 unique tokens: ['document', 'first', 'is', 'the', 'this']...>\n",
      "Corpus: [[(0, 1), (1, 1), (2, 1), (3, 1), (4, 1)], [(0, 2), (2, 1), (3, 1), (4, 1), (5, 1)], [(2, 1), (3, 1), (4, 1), (6, 1), (7, 1), (8, 1)], [(0, 1), (1, 1), (2, 1), (3, 1), (4, 1)]]\n",
      "TfidfModel: TfidfModel<num_docs=4, num_nnz=21>\n",
      "Start looping:\n",
      "\n",
      "Bow by token: ['document(id=0):1', 'first(id=1):1', 'is(id=2):1', 'the(id=3):1', 'this(id=4):1']\n",
      "tfidf: [(0, 0.383332888988391), (1, 0.9236102512530996)]\n",
      "\n",
      "Bow by token: ['document(id=0):2', 'is(id=2):1', 'the(id=3):1', 'this(id=4):1', 'second(id=5):1']\n",
      "tfidf: [(0, 0.383332888988391), (5, 0.9236102512530996)]\n",
      "\n",
      "Bow by token: ['is(id=2):1', 'the(id=3):1', 'this(id=4):1', 'and(id=6):1', 'one(id=7):1', 'third(id=8):1']\n",
      "tfidf: [(6, 0.5773502691896258), (7, 0.5773502691896258), (8, 0.5773502691896258)]\n",
      "\n",
      "Bow by token: ['document(id=0):1', 'first(id=1):1', 'is(id=2):1', 'the(id=3):1', 'this(id=4):1']\n",
      "tfidf: [(0, 0.383332888988391), (1, 0.9236102512530996)]\n",
      "\n"
     ]
    },
    {
     "data": {
      "text/plain": "[]"
     },
     "execution_count": 93,
     "metadata": {},
     "output_type": "execute_result"
    }
   ],
   "source": [
    "text_corpus = [\n",
    "    'This is the first document.',\n",
    "    'This document is the second document.',\n",
    "    'And this is the third one.',\n",
    "    'Is this the first document?',\n",
    "]\n",
    "texts = [[re.sub('[.?]', \"\", word) for word in document.lower().split()]\n",
    "         for document in text_corpus]\n",
    "print(\"Texts:\", texts)\n",
    "dictionary = corpora.Dictionary(texts)\n",
    "print(\"Dictionary:\", dictionary)\n",
    "corpus = [dictionary.doc2bow(doc) for doc in texts]\n",
    "print(\"Corpus:\", corpus)\n",
    "tfidf = TfidfModel(corpus, id2word=dictionary, normalize=True)\n",
    "print(\"TfidfModel:\", tfidf)\n",
    "print(\"Start looping:\\n\")\n",
    "low_value = 0.2\n",
    "low_value_words = []\n",
    "for bow in corpus:\n",
    "    print(\"Bow by token:\", list(map(lambda x: f'{dictionary[x[0]]}(id={x[0]}):{x[1]}', bow)))\n",
    "    print(\"tfidf:\", tfidf[bow])\n",
    "    print()\n",
    "    low_value_words += [id for id, value in tfidf[bow] if value < low_value]\n",
    "low_value_words"
   ],
   "metadata": {
    "collapsed": false
   }
  },
  {
   "cell_type": "code",
   "execution_count": null,
   "outputs": [],
   "source": [],
   "metadata": {
    "collapsed": false
   }
  }
 ],
 "metadata": {
  "kernelspec": {
   "display_name": "Python 3",
   "language": "python",
   "name": "python3"
  },
  "language_info": {
   "codemirror_mode": {
    "name": "ipython",
    "version": 2
   },
   "file_extension": ".py",
   "mimetype": "text/x-python",
   "name": "python",
   "nbconvert_exporter": "python",
   "pygments_lexer": "ipython2",
   "version": "2.7.6"
  }
 },
 "nbformat": 4,
 "nbformat_minor": 0
}
