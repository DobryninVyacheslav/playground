{
 "cells": [
  {
   "cell_type": "code",
   "execution_count": 17,
   "metadata": {
    "collapsed": true,
    "ExecuteTime": {
     "end_time": "2023-08-07T14:10:25.402446Z",
     "start_time": "2023-08-07T14:10:25.395902Z"
    }
   },
   "outputs": [],
   "source": [
    "from nltk.tokenize import word_tokenize\n",
    "from nltk.corpus import stopwords\n",
    "import re"
   ]
  },
  {
   "cell_type": "code",
   "execution_count": 5,
   "outputs": [],
   "source": [
    "document = \"Matanuska-Susitna Valley (/mÃ¦tÉËnuËskÉ suËËsÉªtnÉ/) (known locally as the Mat-Su or The Valley) is an area in Southcentral Alaska south of the Alaska Range about 35 miles (56 km) north of Anchorage, Alaska.,\""
   ],
   "metadata": {
    "collapsed": false,
    "ExecuteTime": {
     "end_time": "2023-08-07T14:07:30.617630Z",
     "start_time": "2023-08-07T14:07:30.613910Z"
    }
   }
  },
  {
   "cell_type": "code",
   "execution_count": 11,
   "outputs": [],
   "source": [
    "tokens = word_tokenize(document.lower())"
   ],
   "metadata": {
    "collapsed": false,
    "ExecuteTime": {
     "end_time": "2023-08-07T14:08:39.249247Z",
     "start_time": "2023-08-07T14:08:39.246201Z"
    }
   }
  },
  {
   "cell_type": "code",
   "execution_count": 15,
   "outputs": [],
   "source": [
    "stop_words = set(stopwords.words('english'))\n",
    "filtered_tokens = [token for token in tokens if token not in stop_words]"
   ],
   "metadata": {
    "collapsed": false,
    "ExecuteTime": {
     "end_time": "2023-08-07T14:10:13.373280Z",
     "start_time": "2023-08-07T14:10:13.366498Z"
    }
   }
  },
  {
   "cell_type": "code",
   "execution_count": 18,
   "outputs": [],
   "source": [
    "cleaned_tokens = [re.sub(r'[^\\w\\s]', '', token) for token in filtered_tokens]"
   ],
   "metadata": {
    "collapsed": false,
    "ExecuteTime": {
     "end_time": "2023-08-07T14:10:29.362247Z",
     "start_time": "2023-08-07T14:10:29.358729Z"
    }
   }
  },
  {
   "cell_type": "code",
   "execution_count": 20,
   "outputs": [
    {
     "data": {
      "text/plain": "['matanuskasusitna',\n 'valley',\n '',\n 'mãtéënuëské',\n 'suëëséªtné',\n '',\n '',\n 'known',\n 'locally',\n 'matsu',\n 'valley',\n '',\n 'area',\n 'southcentral',\n 'alaska',\n 'south',\n 'alaska',\n 'range',\n '35',\n 'miles',\n '',\n '56',\n 'km',\n '',\n 'north',\n 'anchorage',\n '',\n 'alaska',\n '']"
     },
     "execution_count": 20,
     "metadata": {},
     "output_type": "execute_result"
    }
   ],
   "source": [
    "cleaned_tokens"
   ],
   "metadata": {
    "collapsed": false,
    "ExecuteTime": {
     "end_time": "2023-08-07T14:11:09.071354Z",
     "start_time": "2023-08-07T14:11:09.068280Z"
    }
   }
  },
  {
   "cell_type": "code",
   "execution_count": null,
   "outputs": [],
   "source": [],
   "metadata": {
    "collapsed": false
   }
  }
 ],
 "metadata": {
  "kernelspec": {
   "display_name": "Python 3",
   "language": "python",
   "name": "python3"
  },
  "language_info": {
   "codemirror_mode": {
    "name": "ipython",
    "version": 2
   },
   "file_extension": ".py",
   "mimetype": "text/x-python",
   "name": "python",
   "nbconvert_exporter": "python",
   "pygments_lexer": "ipython2",
   "version": "2.7.6"
  }
 },
 "nbformat": 4,
 "nbformat_minor": 0
}
